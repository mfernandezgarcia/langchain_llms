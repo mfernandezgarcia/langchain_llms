{
 "cells": [
  {
   "cell_type": "markdown",
   "id": "8266849e",
   "metadata": {},
   "source": [
    "# Extracción de información"
   ]
  },
  {
   "cell_type": "markdown",
   "id": "cda1937d",
   "metadata": {},
   "source": [
    "Documentación: https://python.langchain.com/docs/integrations/document_loaders/web_base"
   ]
  },
  {
   "cell_type": "code",
   "execution_count": 19,
   "id": "9952747f7141f847",
   "metadata": {
    "ExecuteTime": {
     "end_time": "2024-01-26T08:27:23.005313Z",
     "start_time": "2024-01-26T08:27:22.764632Z"
    },
    "collapsed": false
   },
   "outputs": [],
   "source": [
    "from langchain_community.document_loaders import WebBaseLoader"
   ]
  },
  {
   "cell_type": "code",
   "execution_count": 78,
   "id": "f690198d",
   "metadata": {},
   "outputs": [],
   "source": [
    "loader = WebBaseLoader(\"https://www.20minutos.es/andalucia/\")"
   ]
  },
  {
   "cell_type": "code",
   "execution_count": 79,
   "id": "2d52a011",
   "metadata": {},
   "outputs": [],
   "source": [
    "data = loader.load()"
   ]
  },
  {
   "cell_type": "code",
   "execution_count": 81,
   "id": "e7e4c16f",
   "metadata": {},
   "outputs": [],
   "source": [
    "web_content = data[0].page_content"
   ]
  },
  {
   "cell_type": "code",
   "execution_count": 85,
   "id": "2ccd89f7",
   "metadata": {},
   "outputs": [],
   "source": [
    "# From web content create an array of the web_content string separated by every \\n (if there are several \\n together, it will be considered as one)\n",
    "web_content = web_content.split(\"\\n\")"
   ]
  },
  {
   "cell_type": "code",
   "execution_count": 87,
   "id": "266797c0",
   "metadata": {},
   "outputs": [],
   "source": [
    "# Remove '' items from web_content array\n",
    "web_content = list(filter(None, web_content))"
   ]
  },
  {
   "cell_type": "code",
   "execution_count": 91,
   "id": "ad7e207d",
   "metadata": {},
   "outputs": [],
   "source": [
    "# Remove ' ' items from web_content array\n",
    "web_content = list(filter(lambda x: x != ' ', web_content))"
   ]
  },
  {
   "cell_type": "code",
   "execution_count": 92,
   "id": "1806ad8e",
   "metadata": {},
   "outputs": [],
   "source": [
    "# If '20minutos' is in the item, remove it from the array\n",
    "web_content = list(filter(lambda x: '20minutos' not in x, web_content))"
   ]
  },
  {
   "cell_type": "code",
   "execution_count": 98,
   "id": "d008dcf4",
   "metadata": {},
   "outputs": [],
   "source": [
    "# Get only items which length splitted by blank spaces is > 5. Previously remove all spaces from the beginning and the end of the string\n",
    "web_content = list(filter(lambda x: len(x.strip().split(\" \")) > 4, web_content))"
   ]
  },
  {
   "cell_type": "code",
   "execution_count": 100,
   "id": "9f3d3e23",
   "metadata": {},
   "outputs": [],
   "source": [
    "# For all items remove spaces from the beginning and the end of the string\n",
    "web_content = list(map(lambda x: x.strip(), web_content))"
   ]
  },
  {
   "cell_type": "code",
   "execution_count": 104,
   "id": "3d40c275",
   "metadata": {},
   "outputs": [
    {
     "data": {
      "text/plain": [
       "['ÚLTIMA HORAEl paro se redujo en 2023 en 190.000 personas, pero el último trimestre se destruyeron 19.000 empleos',\n",
       " 'DJOKOVICEl tenista serbio cae en el Abierto de Australia ante Sinner',\n",
       " 'Países Bajos zanjará en febrero si entrega a España al neerlandés acusado de apuñalamiento en Sevilla',\n",
       " 'El hombre había apuñalado presuntamente a un trabajador de un bar del casco histórico de la ciudad.Apuñalan mortalmente a un hombre de 30 años en Sevilla.',\n",
       " 'Los padres de uno de los soldados ahogados en Córdoba se niegan a que los responsables sean juzgados por el Código Militar',\n",
       " 'La normativa militar establece penas de 6 meses a 5 años de prisión mientras que la penal de 10 a 15 años.CLAVES |\\xa0Una mochila con sobrepeso y una mala \"cuerda de vida\": la muerte de los soldados en Cerro Muriano.',\n",
       " 'Siete años de cárcel por intentar matar a una mujer a la que contrató con fines sexuales',\n",
       " 'El procesado cogió piedras de grandes dimensiones y golpeó a la víctima en la cabeza en multitud de ocasiones.Condenado a 26 años de prisión por matar de un disparo a su mujer e intentar hacer lo mismo con su hija.',\n",
       " \"Esta es una de las plazas más bonitas de Málaga: rodeada por fachadas muy coloridas y a los pies de 'la manquita'\",\n",
       " 'Una de las más emblemáticas es la plaza de la Constitución, que tiene una ubicación privilegiada porque conecta este punto con las zonas más populares de la ciudad.El destino de invierno favorito para visitar en Málaga: tiene la única fábrica de miel de caña en Europa.',\n",
       " 'Detenido el autor confeso del asesinato de su pareja, cuyo cuerpo apareció en un arroyo de Málaga en octubre',\n",
       " 'Agentes de la Policía Nacional han detenido a otras dos personas como supuestos encubridores de los hechos.Hallan en un arroyo de Málaga un cadáver en avanzado estado de descomposición.',\n",
       " 'Cae en Málaga uno de los grandes líderes de la Mocro Maffia: era un famoso narco de la Costa del Sol y el prófugo más buscado en Holanda',\n",
       " 'La Policía Nacional arrestó a otras cinco personas y realizó 14 registros en Málaga y Melilla.Absuelto un hombre condenado por abusar de una mujer con discapacidad en Málaga.',\n",
       " 'Queman a Pelelemón, un muñeco satírico de Puigdemont, en la fiesta de San Antón de Jaén',\n",
       " 'El muñeco, que ha ganado el primer premio del concurso, portaba una pancarta: \"Quiero ser indultado\".Figuras del rey ahorcado, Rajoy guillotinado, fotos quemadas... los casos más polémicos contra políticos.',\n",
       " 'Absuelto un hombre condenado por abusar de una mujer con discapacidad en Málaga',\n",
       " 'El TSJ de Andalucía ha concluido que la denunciante tiene suficiente \"autodeterminación en el ámbito sexual\".Un educador de un centro de Teià se enfrenta a 67 años de prisión por violar a un niño discapacitado.',\n",
       " 'Espadas reorganiza su cúpula y releva a los números dos y tres del PSOE andaluz',\n",
       " 'Ángeles Férriz abandona la Vicesecretaría General, que se elimina, aunque se mantiene como portavoz parlamentaria; y Jacinto Viedma será el nuevo Secretario de Organización, en sustitución de Noel López.Sánchez elige a Juan Espadas como nuevo portavoz en el Senado y ratifica a Patxi López en el Congreso.',\n",
       " 'El edificio más antiguo de Granada: fue capital del reino y esconde palacios y jardines tras sus murallas',\n",
       " 'La construcción más antigua de Granada es uno de los puntos más emblemáticos y visitados por los turistas cuando viajan a la ciudad.\\xa0\\u200bEstos son los dos pueblos de Granada que podrían desaparecer en los próximos años.\\u200bQué hacer gratis en Granada: museos, arte urbano, lugares emblemáticos y entornos naturales.',\n",
       " 'Sanz pondrá límite a los pisos turísticos \"en cuanto se apruebe en los próximos días el decreto\" andaluz',\n",
       " 'El alcalde lo ha anunciado en el stand de la capital en Fitur, donde además ha firmado un convenio con agencias de viajes para promover el turismo sostenible y de calidad.\\xa0Sevilla se postula para acoger una cumbre iberoamericana en 2026',\n",
       " 'Alerta en Moguer por el incendio de un tractor que provoca una gran columna de humo visible desde varios kilómetros',\n",
       " 'El tractor se encontraba en una nave de plásticos por la que se extendió el incendio, pero no hay heridos.Más de 40 evacuados de tres edificios de Vilanova i la Geltrú por el incendio de dos coches en un parking.',\n",
       " 'Queda en libertad la madre del menor detenido en Sevilla por presunto vínculo con el terrorismo yihadista',\n",
       " 'El arrestado ha sido internado ante\\xa0\"un riesgo de fuga evidente dada la gravedad de los hechos\".\"Mañana es el gran día\": el menor sirio detenido por yihadismo planeaba un ataque en su instituto.',\n",
       " 'Los padres de una niña serán indemnizados en Jaén con medio millón de euros por una negligencia médica durante el parto',\n",
       " 'La menor sufrió lesiones que le provocaron una parálisis braquial en el hombro.Investigan el hallazgo de un feto en un contenedor de basura en Toledo.',\n",
       " 'Dónde aparcar gratis en el centro y a las afueras de Granada',\n",
       " 'Aparcar un vehículo en el centro de esta ciudad de Andalucía puede ser una tarea complicada, pero hay algunas zonas gratuitas cercanas al núcleo de la ciudad.\\xa0\\u200bLa multa de 80 euros que te podrían poner si haces esto con las luces de tu coche.Cómo solicitar una zona de aparcamiento para personas con movilidad reducida en tu calle.',\n",
       " 'Estos son los pueblos de Sevilla que podrían desaparecer por el cambio climático',\n",
       " 'A pesar de estar más alejada de la costa que otras provincias como Cádiz o Huelva, la subida del nivel del mar provocaría la desaparición de muchas zonas de Sevilla.\\u200bEuropa lidera el alza de muertos por calor y polución: adviertes de un \"futuro peligroso\" en la salud.\\u200bOsos polares, linces, águilas... El cambio climático amenaza con la extinción de más de 5.000 especies animales.',\n",
       " 'Detienen a dos personas por estafar a 18 agricultores y tener 25 toneladas de aceitunas en mal estado listas para hacer aceite',\n",
       " 'Usaban etiquetas de una marca que no existía y con fecha de caducidad señalada para el año 2022.Investigan a un joven por estafar al menos 4.000 euros a una persona simulando ser asesor bancario',\n",
       " 'Sevilla recuerda a Marta del Castillo 15 años después de su asesinato y sin que aún haya aparecido el cuerpo',\n",
       " 'El abuelo de la joven ha convocado este 24 de enero una concentración a las puertas de los juzgados para reclamar avances en la investigación del paradero de los restos de su nieta.Las entrañas de un teléfono: la última esperanza después de 15 años sin Marta del Castillo.',\n",
       " 'Euromillones deja un nuevo millonario en España y el bote sube a 130 millones',\n",
       " 'Comprobar Euromillones: resultados de hoy, martes 23 de enero de 2024.Un acertante de Eurodreams en España gana el primer premio: 20.000 euros al mes durante 30 años.',\n",
       " 'Detenido en Tarifa tras ser sorprendido con 20 kilos de lapas protegidas por estar en peligro de extinción',\n",
       " 'El hombre está acusado de un delito contra la protección de la flora y fauna.Arrestado un maltratador por arrancarse dos veces la pulsera telemática de control.12345Página 1 de 5HoróscopoAriesTauroGéminisCáncerLeoVirgoLibraEscorpioSagitarioCapricornioAcuarioPiscisServiciosLoterías20deComprasNewsletterBlogsHoróscopoAplicacionesGuía localCódigos Desc.Ed. Impresa']"
      ]
     },
     "execution_count": 104,
     "metadata": {},
     "output_type": "execute_result"
    }
   ],
   "source": [
    "web_content[0:-1]"
   ]
  },
  {
   "cell_type": "code",
   "execution_count": 59,
   "id": "8826e0c7",
   "metadata": {},
   "outputs": [],
   "source": [
    "# Now I want to have a dictionary with the following structure:\n",
    "# - even positions are the keys\n",
    "# - odd positions are the values\n",
    "\n",
    "def create_dict_from_list(list):\n",
    "    dict = {}\n",
    "    for i in range(0, len(list)-1, 2):\n",
    "        dict[list[i]] = list[i+1]\n",
    "    return dict\n",
    "\n",
    "news = create_dict_from_list(web_content)"
   ]
  },
  {
   "cell_type": "code",
   "execution_count": 60,
   "id": "4d984db5",
   "metadata": {},
   "outputs": [
    {
     "data": {
      "text/plain": [
       "{'Países Bajos zanjará en febrero si entrega a España al neerlandés acusado de apuñalamiento en Sevilla': 'El hombre había apuñalado presuntamente a un trabajador de un bar del casco histórico de la ciudad.Apuñalan mortalmente a un hombre de 30 años en Sevilla.',\n",
       " 'Los padres de uno de los soldados ahogados en Córdoba se niegan a que los responsables sean juzgados por el Código Militar': 'La normativa militar establece penas de 6 meses a 5 años de prisión mientras que la penal de 10 a 15 años.CLAVES |\\xa0Una mochila con sobrepeso y una mala \"cuerda de vida\": la muerte de los soldados en Cerro Muriano.',\n",
       " 'Siete años de cárcel por intentar matar a una mujer a la que contrató con fines sexuales': 'El procesado cogió piedras de grandes dimensiones y golpeó a la víctima en la cabeza en multitud de ocasiones.Condenado a 26 años de prisión por matar de un disparo a su mujer e intentar hacer lo mismo con su hija.',\n",
       " \"Esta es una de las plazas más bonitas de Málaga: rodeada por fachadas muy coloridas y a los pies de 'la manquita'\": 'Una de las más emblemáticas es la plaza de la Constitución, que tiene una ubicación privilegiada porque conecta este punto con las zonas más populares de la ciudad.El destino de invierno favorito para visitar en Málaga: tiene la única fábrica de miel de caña en Europa.',\n",
       " 'Detenido el autor confeso del asesinato de su pareja, cuyo cuerpo apareció en un arroyo de Málaga en octubre': 'Agentes de la Policía Nacional han detenido a otras dos personas como supuestos encubridores de los hechos.Hallan en un arroyo de Málaga un cadáver en avanzado estado de descomposición.',\n",
       " 'Cae en Málaga uno de los grandes líderes de la Mocro Maffia: era un famoso narco de la Costa del Sol y el prófugo más buscado en Holanda': 'La Policía Nacional arrestó a otras cinco personas y realizó 14 registros en Málaga y Melilla.Absuelto un hombre condenado por abusar de una mujer con discapacidad en Málaga.',\n",
       " 'Queman a Pelelemón, un muñeco satírico de Puigdemont, en la fiesta de San Antón de Jaén': 'El muñeco, que ha ganado el primer premio del concurso, portaba una pancarta: \"Quiero ser indultado\".Figuras del rey ahorcado, Rajoy guillotinado, fotos quemadas... los casos más polémicos contra políticos.',\n",
       " 'Absuelto un hombre condenado por abusar de una mujer con discapacidad en Málaga': 'El TSJ de Andalucía ha concluido que la denunciante tiene suficiente \"autodeterminación en el ámbito sexual\".Un educador de un centro de Teià se enfrenta a 67 años de prisión por violar a un niño discapacitado.',\n",
       " 'Espadas reorganiza su cúpula y releva a los números dos y tres del PSOE andaluz': 'Ángeles Férriz abandona la Vicesecretaría General, que se elimina, aunque se mantiene como portavoz parlamentaria; y Jacinto Viedma será el nuevo Secretario de Organización, en sustitución de Noel López.Sánchez elige a Juan Espadas como nuevo portavoz en el Senado y ratifica a Patxi López en el Congreso.',\n",
       " 'El edificio más antiguo de Granada: fue capital del reino y esconde palacios y jardines tras sus murallas': 'La construcción más antigua de Granada es uno de los puntos más emblemáticos y visitados por los turistas cuando viajan a la ciudad.\\xa0\\u200bEstos son los dos pueblos de Granada que podrían desaparecer en los próximos años.\\u200bQué hacer gratis en Granada: museos, arte urbano, lugares emblemáticos y entornos naturales.',\n",
       " 'Sanz pondrá límite a los pisos turísticos \"en cuanto se apruebe en los próximos días el decreto\" andaluz': 'El alcalde lo ha anunciado en el stand de la capital en Fitur, donde además ha firmado un convenio con agencias de viajes para promover el turismo sostenible y de calidad.\\xa0Sevilla se postula para acoger una cumbre iberoamericana en 2026',\n",
       " 'Alerta en Moguer por el incendio de un tractor que provoca una gran columna de humo visible desde varios kilómetros': 'El tractor se encontraba en una nave de plásticos por la que se extendió el incendio, pero no hay heridos.Más de 40 evacuados de tres edificios de Vilanova i la Geltrú por el incendio de dos coches en un parking.',\n",
       " 'Queda en libertad la madre del menor detenido en Sevilla por presunto vínculo con el terrorismo yihadista': 'El arrestado ha sido internado ante\\xa0\"un riesgo de fuga evidente dada la gravedad de los hechos\".\"Mañana es el gran día\": el menor sirio detenido por yihadismo planeaba un ataque en su instituto.',\n",
       " 'Los padres de una niña serán indemnizados en Jaén con medio millón de euros por una negligencia médica durante el parto': 'La menor sufrió lesiones que le provocaron una parálisis braquial en el hombro.Investigan el hallazgo de un feto en un contenedor de basura en Toledo.',\n",
       " 'Dónde aparcar gratis en el centro y a las afueras de Granada': 'Aparcar un vehículo en el centro de esta ciudad de Andalucía puede ser una tarea complicada, pero hay algunas zonas gratuitas cercanas al núcleo de la ciudad.\\xa0\\u200bLa multa de 80 euros que te podrían poner si haces esto con las luces de tu coche.Cómo solicitar una zona de aparcamiento para personas con movilidad reducida en tu calle.',\n",
       " 'Estos son los pueblos de Sevilla que podrían desaparecer por el cambio climático': 'A pesar de estar más alejada de la costa que otras provincias como Cádiz o Huelva, la subida del nivel del mar provocaría la desaparición de muchas zonas de Sevilla.\\u200bEuropa lidera el alza de muertos por calor y polución: adviertes de un \"futuro peligroso\" en la salud.\\u200bOsos polares, linces, águilas... El cambio climático amenaza con la extinción de más de 5.000 especies animales.',\n",
       " 'Detienen a dos personas por estafar a 18 agricultores y tener 25 toneladas de aceitunas en mal estado listas para hacer aceite': 'Usaban etiquetas de una marca que no existía y con fecha de caducidad señalada para el año 2022.Investigan a un joven por estafar al menos 4.000 euros a una persona simulando ser asesor bancario',\n",
       " 'Sevilla recuerda a Marta del Castillo 15 años después de su asesinato y sin que aún haya aparecido el cuerpo': 'El abuelo de la joven ha convocado este 24 de enero una concentración a las puertas de los juzgados para reclamar avances en la investigación del paradero de los restos de su nieta.Las entrañas de un teléfono: la última esperanza después de 15 años sin Marta del Castillo.',\n",
       " 'Euromillones deja un nuevo millonario en España y el bote sube a 130 millones': 'Comprobar Euromillones: resultados de hoy, martes 23 de enero de 2024.Un acertante de Eurodreams en España gana el primer premio: 20.000 euros al mes durante 30 años.',\n",
       " 'Detenido en Tarifa tras ser sorprendido con 20 kilos de lapas protegidas por estar en peligro de extinción': 'El hombre está acusado de un delito contra la protección de la flora y fauna.Arrestado un maltratador por arrancarse dos veces la pulsera telemática de control.12345Página 1 de 5HoróscopoAriesTauroGéminisCáncerLeoVirgoLibraEscorpioSagitarioCapricornioAcuarioPiscisServiciosLoterías20deComprasNewsletterBlogsHoróscopoAplicacionesGuía localCódigos Desc.Ed. Impresa'}"
      ]
     },
     "execution_count": 60,
     "metadata": {},
     "output_type": "execute_result"
    }
   ],
   "source": [
    "news"
   ]
  },
  {
   "cell_type": "markdown",
   "id": "2be492b8",
   "metadata": {},
   "source": [
    "# IA Generativa\n"
   ]
  },
  {
   "cell_type": "code",
   "execution_count": 105,
   "id": "b2db5c1d",
   "metadata": {},
   "outputs": [],
   "source": [
    "first_new = list(news.items())[0]"
   ]
  },
  {
   "cell_type": "code",
   "execution_count": 106,
   "id": "3f1f6360",
   "metadata": {},
   "outputs": [
    {
     "data": {
      "text/plain": [
       "('Países Bajos zanjará en febrero si entrega a España al neerlandés acusado de apuñalamiento en Sevilla',\n",
       " 'El hombre había apuñalado presuntamente a un trabajador de un bar del casco histórico de la ciudad.Apuñalan mortalmente a un hombre de 30 años en Sevilla.')"
      ]
     },
     "execution_count": 106,
     "metadata": {},
     "output_type": "execute_result"
    }
   ],
   "source": [
    "first_new"
   ]
  },
  {
   "cell_type": "code",
   "execution_count": 68,
   "id": "10ee5f84",
   "metadata": {},
   "outputs": [],
   "source": [
    "from langchain.llms import Ollama"
   ]
  },
  {
   "cell_type": "code",
   "execution_count": 107,
   "id": "cc0955c7",
   "metadata": {},
   "outputs": [
    {
     "name": "stdout",
     "output_type": "stream",
     "text": [
      " \"España y los Países Bajos estarán encendiendo la campana de las relaciones excepcionales y trabajando juntos para enfrentar los retos mundiales si el acusado neerlandés del homicidio en Sevilla será entregado a España. Una gran oportunidad para ambas naciones.\"\n"
     ]
    }
   ],
   "source": [
    "ollama = Ollama(base_url='http://localhost:11434', model=\"orca-mini\")\n",
    "print ( ollama(f\"Genera un tweet de 60 caracteres sobre esta noticia en español: {first_new}. Quiero que sea una opinión que no sea polémica.\") )"
   ]
  }
 ],
 "metadata": {
  "kernelspec": {
   "display_name": "Python 3",
   "language": "python",
   "name": "python3"
  },
  "language_info": {
   "codemirror_mode": {
    "name": "ipython",
    "version": 3
   },
   "file_extension": ".py",
   "mimetype": "text/x-python",
   "name": "python",
   "nbconvert_exporter": "python",
   "pygments_lexer": "ipython3",
   "version": "3.11.4"
  }
 },
 "nbformat": 4,
 "nbformat_minor": 5
}
