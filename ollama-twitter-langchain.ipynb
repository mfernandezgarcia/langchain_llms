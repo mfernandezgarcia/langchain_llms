{
 "cells": [
  {
   "cell_type": "markdown",
   "metadata": {},
   "source": [
    "# Generar un mensaje con Ollama"
   ]
  },
  {
   "cell_type": "markdown",
   "metadata": {},
   "source": [
    "En primer lugar, lo que vamos a hacer es llamar a nuestro LLM \"orca-mini\" con Ollama para generar un tweet sobre el cambio climático. Asegúrate de tener Ollama arrancado."
   ]
  },
  {
   "cell_type": "code",
   "execution_count": 1,
   "metadata": {},
   "outputs": [],
   "source": [
    "from langchain.llms import Ollama"
   ]
  },
  {
   "cell_type": "code",
   "execution_count": 9,
   "metadata": {},
   "outputs": [
    {
     "name": "stdout",
     "output_type": "stream",
     "text": [
      " \"El cambio climático está sucediendo y debemos actuar hacia un futuro positivo. #ClimateAction\"\n"
     ]
    }
   ],
   "source": [
    "ollama = Ollama(base_url='http://localhost:11434', model=\"orca-mini\")\n",
    "response = ollama(\"Escribe un Tweet de no más de 10 caracteres sobre el cambio climático en español.\")\n",
    "\n",
    "print ( response )"
   ]
  },
  {
   "cell_type": "markdown",
   "metadata": {},
   "source": [
    "# Configuración de llamada para Twitter"
   ]
  },
  {
   "cell_type": "markdown",
   "metadata": {},
   "source": [
    "En primer lugar, lo que tendrás que hacer es entrar en tu portal de desarrollador de Twitter, crear un proyecto y guardar la cave y la clave secreta que se te van a generar.\n",
    "\n",
    "Portal: https://developer.twitter.com/en/portal/projects/"
   ]
  },
  {
   "cell_type": "markdown",
   "metadata": {},
   "source": [
    "Vamos a guardar en variables de Python las variables de entorno que hemos creado anteriormente."
   ]
  },
  {
   "cell_type": "code",
   "execution_count": 3,
   "metadata": {},
   "outputs": [],
   "source": [
    "from dotenv import load_dotenv\n",
    "import os\n",
    "\n",
    "load_dotenv()\n",
    "\n",
    "consumer_key = os.environ.get(\"TWITTER_CONSUMER_KEY\")\n",
    "consumer_secret = os.environ.get(\"TWITTER_CONSUMER_SECRET\")"
   ]
  },
  {
   "cell_type": "code",
   "execution_count": 4,
   "metadata": {},
   "outputs": [
    {
     "name": "stdout",
     "output_type": "stream",
     "text": [
      "Got OAuth token: -aCHEwAAAAABpWoRAAABjS3h0hY\n",
      "Please go here and authorize: https://api.twitter.com/oauth/authorize?oauth_token=-aCHEwAAAAABpWoRAAABjS3h0hY\n"
     ]
    }
   ],
   "source": [
    "from TwitterAuth import TwitterAuth\n",
    "\n",
    "auth = TwitterAuth(consumer_key, consumer_secret)\n",
    "oauth = auth.get_oauth()"
   ]
  },
  {
   "cell_type": "markdown",
   "metadata": {},
   "source": [
    "# Enviar el tweet"
   ]
  },
  {
   "cell_type": "code",
   "execution_count": 10,
   "metadata": {},
   "outputs": [],
   "source": [
    "payload = {\"text\": f\"{response}\"}"
   ]
  },
  {
   "cell_type": "code",
   "execution_count": 11,
   "metadata": {},
   "outputs": [],
   "source": [
    "# Making the request\n",
    "response = oauth.post(\n",
    "    \"https://api.twitter.com/2/tweets\",\n",
    "    json=payload,\n",
    ")"
   ]
  },
  {
   "cell_type": "code",
   "execution_count": 12,
   "metadata": {},
   "outputs": [
    {
     "name": "stdout",
     "output_type": "stream",
     "text": [
      "Response code: 201\n"
     ]
    }
   ],
   "source": [
    "if response.status_code != 201:\n",
    "    raise Exception(\n",
    "        \"Request returned an error: {} {}\".format(response.status_code, response.text)\n",
    "    )\n",
    "\n",
    "print(\"Response code: {}\".format(response.status_code))"
   ]
  }
 ],
 "metadata": {
  "kernelspec": {
   "display_name": "base",
   "language": "python",
   "name": "python3"
  },
  "language_info": {
   "codemirror_mode": {
    "name": "ipython",
    "version": 3
   },
   "file_extension": ".py",
   "mimetype": "text/x-python",
   "name": "python",
   "nbconvert_exporter": "python",
   "pygments_lexer": "ipython3",
   "version": "3.11.4"
  }
 },
 "nbformat": 4,
 "nbformat_minor": 2
}
