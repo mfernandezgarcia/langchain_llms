{
 "cells": [
  {
   "cell_type": "code",
   "execution_count": null,
   "id": "af140715",
   "metadata": {},
   "outputs": [],
   "source": [
    "!conda install langchain -c conda-forge"
   ]
  },
  {
   "cell_type": "code",
   "execution_count": 13,
   "id": "c8ff9693",
   "metadata": {},
   "outputs": [],
   "source": [
    "from langchain.llms import Ollama\n",
    "from langchain.document_loaders import WebBaseLoader"
   ]
  },
  {
   "cell_type": "code",
   "execution_count": 14,
   "id": "cb06123f",
   "metadata": {},
   "outputs": [
    {
     "name": "stdout",
     "output_type": "stream",
     "text": [
      " The answer is four, as two and two are additive and the sum of the two numbers is four.\n"
     ]
    }
   ],
   "source": [
    "ollama = Ollama(base_url='http://localhost:11434', model=\"orca-mini\")\n",
    "print(ollama(\"¿Cuánto es 2+2?\"))"
   ]
  }
 ],
 "metadata": {
  "kernelspec": {
   "display_name": "Python 3 (ipykernel)",
   "language": "python",
   "name": "python3"
  },
  "language_info": {
   "codemirror_mode": {
    "name": "ipython",
    "version": 3
   },
   "file_extension": ".py",
   "mimetype": "text/x-python",
   "name": "python",
   "nbconvert_exporter": "python",
   "pygments_lexer": "ipython3",
   "version": "3.11.4"
  }
 },
 "nbformat": 4,
 "nbformat_minor": 5
}
