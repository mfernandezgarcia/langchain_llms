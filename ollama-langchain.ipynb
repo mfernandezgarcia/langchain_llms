{
 "cells": [
  {
   "cell_type": "markdown",
   "id": "42f8fcad",
   "metadata": {},
   "source": [
    "# Ollama with LangChain"
   ]
  },
  {
   "cell_type": "markdown",
   "id": "73f5c960",
   "metadata": {},
   "source": [
    "First, make sure you have langchain installed in your conda environment"
   ]
  },
  {
   "cell_type": "code",
   "execution_count": null,
   "id": "79faa998",
   "metadata": {},
   "outputs": [],
   "source": [
    "# !conda install langchain -c conda-forge"
   ]
  },
  {
   "cell_type": "code",
   "execution_count": 13,
   "id": "84cdbaea",
   "metadata": {},
   "outputs": [],
   "source": [
    "from langchain.llms import Ollama"
   ]
  },
  {
   "cell_type": "code",
   "execution_count": 14,
   "id": "c6e548f9",
   "metadata": {},
   "outputs": [
    {
     "name": "stdout",
     "output_type": "stream",
     "text": [
      " The answer is four, as two and two are additive and the sum of the two numbers is four.\n"
     ]
    }
   ],
   "source": [
    "ollama = Ollama(base_url='http://localhost:11434', model=\"orca-mini\")\n",
    "print(ollama(\"¿Cuánto es 2+2?\"))"
   ]
  }
 ],
 "metadata": {
  "kernelspec": {
   "display_name": "Python 3 (ipykernel)",
   "language": "python",
   "name": "python3"
  },
  "language_info": {
   "codemirror_mode": {
    "name": "ipython",
    "version": 3
   },
   "file_extension": ".py",
   "mimetype": "text/x-python",
   "name": "python",
   "nbconvert_exporter": "python",
   "pygments_lexer": "ipython3",
   "version": "3.11.4"
  }
 },
 "nbformat": 4,
 "nbformat_minor": 5
}
